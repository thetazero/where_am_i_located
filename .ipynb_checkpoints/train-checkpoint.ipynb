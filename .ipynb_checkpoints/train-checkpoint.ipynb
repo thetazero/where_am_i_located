{
 "cells": [
  {
   "cell_type": "code",
   "execution_count": 1,
   "id": "519f0146-e60b-4fb4-bf1f-80f0e44f6997",
   "metadata": {},
   "outputs": [],
   "source": [
    "# import necessary packages\n",
    "import numpy as np\n",
    "import pandas as pd\n",
    "import matplotlib.pyplot as plt\n",
    "import re\n",
    "from PIL import Image\n",
    "\n",
    "# PyTorch and TorchVision packages\n",
    "import torch\n",
    "import torch.nn as nn\n",
    "import torch.optim as optim\n",
    "from torch.utils.data import Dataset, DataLoader\n",
    "\n",
    "import torchvision\n",
    "from torchvision import transforms\n",
    "\n",
    "# autograding packages\n",
    "import otter"
   ]
  },
  {
   "cell_type": "code",
   "execution_count": 2,
   "id": "fa9fc76f-4310-4db5-bb8f-f55f49650b10",
   "metadata": {},
   "outputs": [],
   "source": [
    "import os\n",
    "os.environ['CUDA_LAUNCH_BLOCKING'] = \"1\" # give sane errors"
   ]
  },
  {
   "cell_type": "code",
   "execution_count": 3,
   "id": "425dc52f-ac59-4093-a10e-e7f850444ecd",
   "metadata": {},
   "outputs": [],
   "source": [
    "grid_size=2"
   ]
  },
  {
   "cell_type": "code",
   "execution_count": 4,
   "id": "6bd2410b-992a-47a6-8d83-cf12682baa83",
   "metadata": {},
   "outputs": [],
   "source": [
    "# https://pytorch.org/hub/pytorch_vision_mobilenet_v2/\n",
    "allTransforms = transforms.Compose([\n",
    "            transforms.Resize(256),\n",
    "            transforms.CenterCrop(224),\n",
    "            transforms.ToTensor(),\n",
    "            transforms.Normalize(mean=[0.485, 0.456, 0.406], std=[0.229, 0.224, 0.225]),\n",
    "        ])"
   ]
  },
  {
   "cell_type": "code",
   "execution_count": 5,
   "id": "2b3b0d72-5bd6-468a-b002-9da442eff560",
   "metadata": {},
   "outputs": [],
   "source": [
    "from data_set import CampusImagesDataSet, normalize_point, denormalize_point"
   ]
  },
  {
   "cell_type": "code",
   "execution_count": 6,
   "id": "221ed165-2a90-4976-a5da-7bbafbe6fe59",
   "metadata": {},
   "outputs": [],
   "source": [
    "data = CampusImagesDataSet('data/train/processed', transform=allTransforms, grid_size=grid_size)\n",
    "test_data = CampusImagesDataSet('data/test/processed', transform=allTransforms, grid_size=grid_size)\n",
    "# raw_data = CampusImagesDataSet('data/train/raw')"
   ]
  },
  {
   "cell_type": "code",
   "execution_count": 7,
   "id": "0498a586-9f75-4bae-aacc-172c1c1ef752",
   "metadata": {},
   "outputs": [
    {
     "data": {
      "text/plain": [
       "2"
      ]
     },
     "execution_count": 7,
     "metadata": {},
     "output_type": "execute_result"
    }
   ],
   "source": [
    "data.grid_size"
   ]
  },
  {
   "cell_type": "code",
   "execution_count": 8,
   "id": "4b919df5-aafd-48b6-a0bc-5069f6ee2655",
   "metadata": {},
   "outputs": [
    {
     "data": {
      "text/plain": [
       "225"
      ]
     },
     "execution_count": 8,
     "metadata": {},
     "output_type": "execute_result"
    }
   ],
   "source": [
    "len(data)"
   ]
  },
  {
   "cell_type": "code",
   "execution_count": 9,
   "id": "9f23a934-acda-4353-a00e-e1b8ead40236",
   "metadata": {},
   "outputs": [
    {
     "data": {
      "text/plain": [
       "{0: 58, 3: 50, 2: 64, 1: 53}"
      ]
     },
     "execution_count": 9,
     "metadata": {},
     "output_type": "execute_result"
    }
   ],
   "source": [
    "data.image_one_hot_labels_freq"
   ]
  },
  {
   "cell_type": "code",
   "execution_count": 10,
   "id": "8ff936e4-ba01-444b-97c8-0dee9c3a4700",
   "metadata": {},
   "outputs": [
    {
     "data": {
      "text/plain": [
       "{0: 4, 1: 2, 2: 5, 3: 1}"
      ]
     },
     "execution_count": 10,
     "metadata": {},
     "output_type": "execute_result"
    }
   ],
   "source": [
    "test_data.image_one_hot_labels_freq"
   ]
  },
  {
   "cell_type": "code",
   "execution_count": 11,
   "id": "8c285636-2701-45ba-b3aa-676a16ba2f96",
   "metadata": {},
   "outputs": [
    {
     "data": {
      "text/plain": [
       "[{'location': [40.44089126586914, -79.9481201171875], 'grid_location': '0,0'},\n",
       " {'location': [40.44089126586914, -79.94293975830078], 'grid_location': '0,1'},\n",
       " {'location': [40.44267272949219, -79.9481201171875], 'grid_location': '1,0'},\n",
       " {'location': [40.44267272949219, -79.94293975830078], 'grid_location': '1,1'}]"
      ]
     },
     "execution_count": 11,
     "metadata": {},
     "output_type": "execute_result"
    }
   ],
   "source": [
    "data.get_real_location_grid()"
   ]
  },
  {
   "cell_type": "code",
   "execution_count": 12,
   "id": "3e552ee9-987e-4887-91fb-a3b3f7cdb1ec",
   "metadata": {},
   "outputs": [
    {
     "data": {
      "text/plain": [
       "tensor([[[ 0.9817,  0.9988,  1.0159,  ..., -0.3369,  0.2282,  0.5536],\n",
       "         [ 0.9988,  1.0159,  1.0331,  ..., -1.1247, -0.5596,  0.0912],\n",
       "         [ 1.0159,  1.0331,  1.0673,  ..., -1.5014, -1.2788, -0.5767],\n",
       "         ...,\n",
       "         [-1.1589, -1.1932, -1.1589,  ..., -0.2171, -0.1999, -0.1999],\n",
       "         [-0.9705, -1.0733, -1.1075,  ..., -0.1999, -0.1828, -0.1657],\n",
       "         [-1.0219, -1.1247, -1.2103,  ..., -0.2171, -0.2171, -0.2342]],\n",
       "\n",
       "        [[ 1.2906,  1.3081,  1.3256,  ..., -0.2150,  0.3277,  0.6429],\n",
       "         [ 1.3081,  1.3256,  1.3431,  ..., -1.0028, -0.4601,  0.2052],\n",
       "         [ 1.3256,  1.3431,  1.3782,  ..., -1.3704, -1.1779, -0.4776],\n",
       "         ...,\n",
       "         [-1.1253, -1.1604, -1.1253,  ..., -0.0749, -0.0574, -0.0574],\n",
       "         [-0.9328, -1.0378, -1.0728,  ..., -0.0399, -0.0224, -0.0224],\n",
       "         [-0.9503, -1.0553, -1.1429,  ..., -0.0574, -0.0574, -0.0749]],\n",
       "\n",
       "        [[ 1.7685,  1.7860,  1.8034,  ..., -0.0441,  0.4614,  0.7576],\n",
       "         [ 1.7860,  1.8034,  1.8208,  ..., -0.8110, -0.3055,  0.3393],\n",
       "         [ 1.8034,  1.8208,  1.8557,  ..., -1.1596, -0.9853, -0.3055],\n",
       "         ...,\n",
       "         [-0.9330, -0.9504, -0.9156,  ...,  0.0431,  0.0605,  0.0605],\n",
       "         [-0.7413, -0.8284, -0.8633,  ...,  0.0779,  0.0953,  0.1128],\n",
       "         [-0.7587, -0.8633, -0.9330,  ...,  0.0953,  0.0953,  0.0953]]])"
      ]
     },
     "execution_count": 12,
     "metadata": {},
     "output_type": "execute_result"
    }
   ],
   "source": [
    "data[0][0]"
   ]
  },
  {
   "cell_type": "code",
   "execution_count": 13,
   "id": "8dabde9e-f07d-4178-914f-2c68aa29d197",
   "metadata": {},
   "outputs": [
    {
     "data": {
      "text/plain": [
       "(tensor([1., 0., 0., 0.]), [40.44089126586914, -79.9481201171875])"
      ]
     },
     "execution_count": 13,
     "metadata": {},
     "output_type": "execute_result"
    }
   ],
   "source": [
    "label = data[0][1]\n",
    "(label, data.label_to_real_location(label))"
   ]
  },
  {
   "cell_type": "code",
   "execution_count": 14,
   "id": "49d1b3f3-80a9-4f41-baaa-8066d902efd5",
   "metadata": {},
   "outputs": [],
   "source": [
    "from utils import plot_torch_image"
   ]
  },
  {
   "cell_type": "code",
   "execution_count": 15,
   "id": "254b621a-b017-415f-bd72-9d8424ede61f",
   "metadata": {},
   "outputs": [
    {
     "name": "stderr",
     "output_type": "stream",
     "text": [
      "Clipping input data to the valid range for imshow with RGB data ([0..1] for floats or [0..255] for integers).\n"
     ]
    },
    {
     "data": {
      "image/png": "[encoded data removed]",
      "text/plain": [
       "<Figure size 640x480 with 1 Axes>"
      ]
     },
     "metadata": {},
     "output_type": "display_data"
    }
   ],
   "source": [
    "plot_torch_image(data[7][0])"
   ]
  },
  {
   "cell_type": "code",
   "execution_count": 16,
   "id": "adb09375-3fcc-4481-bce8-58e2ede6b6f7",
   "metadata": {},
   "outputs": [],
   "source": [
    "img = data[3][0]"
   ]
  },
  {
   "cell_type": "code",
   "execution_count": 17,
   "id": "f4758233-0072-4fba-abbb-ffae5d91b496",
   "metadata": {},
   "outputs": [
    {
     "data": {
      "text/plain": [
       "torch.Size([3, 224, 224])"
      ]
     },
     "execution_count": 17,
     "metadata": {},
     "output_type": "execute_result"
    }
   ],
   "source": [
    "img.shape"
   ]
  },
  {
   "cell_type": "code",
   "execution_count": 18,
   "id": "d657c343-f548-4f33-b527-01c3a155a6ec",
   "metadata": {},
   "outputs": [
    {
     "data": {
      "text/plain": [
       "(-0.014028059, 0.8434023)"
      ]
     },
     "execution_count": 18,
     "metadata": {},
     "output_type": "execute_result"
    }
   ],
   "source": [
    "(np.average(img.numpy()), np.std(img.numpy()))"
   ]
  },
  {
   "cell_type": "code",
   "execution_count": 19,
   "id": "a75c8ad8-f026-415a-80de-f9b9300d914f",
   "metadata": {},
   "outputs": [],
   "source": [
    "# [AG] defining the datasets, data-loaders, loss functions, and optimizers\n",
    "def createTrainingUtils(model):\n",
    "    '''Constructs the utilities that will be used to train the input model\n",
    "\n",
    "    Note: if you initialize a PyTorch optimizer object with a specific model's parameters,\n",
    "    then specific model's parameters will be updated during training. If your model is not training,\n",
    "    it could be possible that you are optimizing the wrong set of parameters.\n",
    "\n",
    "    Arguments:\n",
    "        - model: a nn.Module object that will be trained and used to define the optimizer\n",
    "    Returns:\n",
    "        - trainDL: an nn.DataLoader object initialized with a training HotdogDataset, batch size of 16, and shuffling enabled\n",
    "        - testDL: an nn.DataLoader object initialized with a testing HotdogDataset, batch size of 16, and shuffling enabled\n",
    "        - lossfn: a binary-cross entropy loss object used for calculating the loss between predicted and target values\n",
    "        - opt: an Adam optimizer initialized with model parameters and a learning rate of 0.001, all other values are default\n",
    "    '''\n",
    "    trainDL = DataLoader(CampusImagesDataSet('data/train/processed', transform=allTransforms, grid_size=grid_size), batch_size=124, shuffle=True)\n",
    "    testDL = DataLoader(CampusImagesDataSet('data/test/processed', transform=allTransforms, grid_size=grid_size), batch_size=16, shuffle=True)\n",
    "    lossfn = nn.CrossEntropyLoss()\n",
    "    opt = torch.optim.Adam(model.parameters(), lr=0.001)\n",
    "    return trainDL, testDL, lossfn, opt"
   ]
  },
  {
   "cell_type": "code",
   "execution_count": 20,
   "id": "6121cbc6-0065-4da7-a98a-18727a47a6f2",
   "metadata": {},
   "outputs": [],
   "source": [
    "class CMUGuesserNet(nn.Module):\n",
    "    def __init__(self):\n",
    "        '''Initializer for the MobileNet model to predict on the HotdogDataset\n",
    "\n",
    "        1. load the mobilenet_v2 model (you will have to load weights depending on input pretrained)\n",
    "        2. modify the final linear layer of the classifier to output 1 unit\n",
    "        3. create a new final activation layer to turn the single output of the modified Mobilenet into a probability\n",
    "            - we do this because MobileNet itself doesn't have any final activation layer\n",
    "            - you will have to choose the appropriate activation for this last part\n",
    "\n",
    "        Note: when loading the mobilenet model, set progress=False to avoid messing up the autograder\n",
    "\n",
    "        Arguments:\n",
    "            - pretrained: boolean indicating whether to use pre-trained weights on ImageNet (weights=\"MobileNet_V2_Weights.IMAGENET1K_V1\")\n",
    "                          or random weights but still using the model architecture (weights=None)\n",
    "        '''\n",
    "        super().__init__()\n",
    "        # NOTE: store your adjusted, pre-trained mobilenet model object to the self.mobilenet attribute\n",
    "        #       and your final activation layer to self.finalActivation\n",
    "        #       as it will be used for autograding (note: you will have to use these in your forward function)\n",
    "        mobilenet = torchvision.models.mobilenet_v2(weights=torchvision.models.MobileNet_V2_Weights.IMAGENET1K_V1)\n",
    "        mobilenet.classifier[1]= nn.Sequential(\n",
    "            nn.Linear(in_features=1280, out_features=grid_size * grid_size, bias=True),\n",
    "        )\n",
    "        # mobilenet.classifier[1]= nn.Linear(in_features=1280, out_features=2, bias=True)\n",
    "        \n",
    "        self.mobilenet = mobilenet\n",
    "        self.finalActivation = nn.Softmax(dim=1)\n",
    "\n",
    "    def forward(self, x):\n",
    "        '''Computes the model's predictions given data x\n",
    "\n",
    "        Note: because this model is a convolutional neural network and uses convolutional layers to process\n",
    "        the input images into features, we can directly pass in images into the model instead of having to\n",
    "        flatten the entire image into a single row vector like homework 3 which used an multi-layer perceptron (i.e. fully connected neural network)\n",
    "\n",
    "        Don't forget to pass the mobilenet output through the appropriate activation!\n",
    "\n",
    "        Arguments:\n",
    "            - x: a (batch_size, 3, SIZE, SIZE) floating point tensor (note: SIZE defined at top of notebook)\n",
    "        Returns:\n",
    "            - yhat: a (batch_size, 1) floating point tensor containing predictions on whether the each image is not hotdog or hotdog\n",
    "        '''\n",
    "        x = self.mobilenet.forward(x)\n",
    "        return self.finalActivation(x)"
   ]
  },
  {
   "cell_type": "code",
   "execution_count": 21,
   "id": "e051cc7b-c67f-43f2-8268-34bf5716f40a",
   "metadata": {},
   "outputs": [],
   "source": [
    "# DO NOT MODIFY THIS CELL BLOCK\n",
    "def evalDL(model, dl, lossfn):\n",
    "\n",
    "    # figure out if the GPU is available and send model and data to it\n",
    "    device = torch.device(\"cuda\" if torch.cuda.is_available() else \"cpu\")\n",
    "    model = model.to(device)\n",
    "\n",
    "    # use torch.no_grad() context manager to prevent gradients from accumulating in evaluation\n",
    "    # and hindering training\n",
    "    with torch.no_grad():\n",
    "        lossSum = 0\n",
    "        nCorrect = 0\n",
    "        for x, y in dl:\n",
    "            x = x.to(device)\n",
    "            y = y.to(device)\n",
    "            \n",
    "\n",
    "            yhat = model(x)\n",
    "\n",
    "            # compute the loss and add to total (multiply by batch-size to make mean into sum)\n",
    "            # by default, loss functions compute means of losses over batches\n",
    "            lossSum += lossfn(yhat,y) * x.shape[0]\n",
    "\n",
    "            # compute the number of correct and update\n",
    "            predictions = torch.where(yhat > 0.5, 1, 0)\n",
    "            truth = torch.where(y > 0.5, 1, 0)\n",
    "            nCorrect += torch.sum(predictions == truth)\n",
    "\n",
    "        numSamples = len(dl.dataset)\n",
    "        avgLoss = lossSum / numSamples\n",
    "        acc = nCorrect / numSamples\n",
    "    return avgLoss.item(), acc.item()\n",
    "\n",
    "def evaluate(model, trainDL, validDL, lossfn):\n",
    "    trainLoss, trainAcc = evalDL(model, trainDL, lossfn)\n",
    "    validLoss, validAcc = evalDL(model, validDL, lossfn)\n",
    "    return trainLoss, trainAcc, validLoss, validAcc"
   ]
  },
  {
   "cell_type": "code",
   "execution_count": 22,
   "id": "40ccc1e1-b746-48d4-b09f-19521ce69b66",
   "metadata": {},
   "outputs": [],
   "source": [
    "def train(model, trainDL, validDL, lossfn, opt, epochs=10):\n",
    "    '''Trains model and returns training and validation statistics\n",
    "\n",
    "    Arguments:\n",
    "        - model: nn.Module object whose parameters will be updated\n",
    "        - trainDL: the nn.DataLoader object for the training dataset\n",
    "        - validDL: the nn.DataLoader for the validation dataset\n",
    "        - lossfn: a torch.nn loss function object used to evaluate how correct the model's predictions are\n",
    "        - opt: a torch.optim.Optimizer object used for updating the model's parameters\n",
    "        - epochs: the number of epochs to train for\n",
    "    Returns:\n",
    "        - model: the model after performing training and updating it's parameters\n",
    "        - trainLosses: list s.t. trainLosses[i] = average loss on training dataset before epoch i\n",
    "        - trainAccs: list s.t. trainAccs[i] = prediction accuracy on training dataset after epoch i\n",
    "        - validLosses: list s.t. validLosses[i] = average loss on validation dataset after epoch i\n",
    "        - validAccs: list s.t. validAccs[i] = prediction accuracy on validation dataset after epoch i\n",
    "    '''\n",
    "\n",
    "    trainLosses = []\n",
    "    trainAccs   = []\n",
    "    validLosses = []\n",
    "    validAccs   = []\n",
    "    device = torch.device(\"cuda\" if torch.cuda.is_available() else \"cpu\")\n",
    "\n",
    "    # evaluate model without any training\n",
    "    trainLoss, trainAcc, validLoss, validAcc = evaluate(model, trainDL, validDL, lossfn)\n",
    "    trainLosses.append(trainLoss)\n",
    "    trainAccs.append(trainAcc)\n",
    "    validLosses.append(validLoss)\n",
    "    validAccs.append(validAcc)\n",
    "    print(f\"Initial Model: train-loss={trainLoss:<4.2f} train-acc={trainAcc:<4.2f} valid-loss={validLoss:<4.2f} valid-acc={validAcc:<4.2f}\")\n",
    "\n",
    "    # replace the '...' with a line to send the model to the appropriate machine\n",
    "    # (look at evalDL on how to do this)\n",
    "    model = model.to(device)\n",
    "\n",
    "    for e in range(epochs):\n",
    "        for X, y in trainDL:\n",
    "            # START STUDENT SOLUTION ======================================================\n",
    "            # 1. send data to the appropriate device\n",
    "            \n",
    "            X = X.to(device)\n",
    "            y = y.to(device)\n",
    "            # 2. compute prediction and loss (forward pass)\n",
    "            yhat = model(X)\n",
    "            loss = lossfn(yhat, y)\n",
    "            # 3. perform the backpropagation & gradient descent (backward pass)\n",
    "            loss.backward()\n",
    "            opt.step()\n",
    "            opt.zero_grad()\n",
    "\n",
    "\n",
    "        trainLoss, trainAcc, validLoss, validAcc = evaluate(model, trainDL, validDL, lossfn)\n",
    "        trainLosses.append(trainLoss)\n",
    "        trainAccs.append(trainAcc)\n",
    "        validLosses.append(validLoss)\n",
    "        validAccs.append(validAcc)\n",
    "        print(f\"Epoch {e:>4d}: train-loss={trainLoss:<4.6f} test-loss={validLoss:<4.6f}\")\n",
    "\n",
    "    return model, trainLosses, trainAccs, validLosses, validAccs"
   ]
  },
  {
   "cell_type": "code",
   "execution_count": 23,
   "id": "05641ff7-305e-4a1a-ad59-ab191f1c8b30",
   "metadata": {},
   "outputs": [],
   "source": [
    "def freeze(model):\n",
    "    for param in model.mobilenet.parameters():\n",
    "        param.requires_grad=False\n",
    "    for param in model.mobilenet.classifier[1].parameters():\n",
    "        param.requires_grad=True"
   ]
  },
  {
   "cell_type": "code",
   "execution_count": 24,
   "id": "f1f078a6-9832-403d-b9f4-e2f87898088c",
   "metadata": {},
   "outputs": [],
   "source": [
    "# do not modify this cell block\n",
    "def plotStatistics(pretrained, epochs, trainLosses, trainAccs, testLosses, testAccs):\n",
    "    fig, axes = plt.subplots(1,2)\n",
    "    xdata = np.arange(epochs+1)\n",
    "    fig.subplots_adjust(wspace=0.4)\n",
    "\n",
    "    # plot the losses\n",
    "    axis = axes[0]\n",
    "    axis.plot(xdata, trainLosses, label=\"Train\")\n",
    "    axis.plot(xdata, testLosses, label=\"Test\")\n",
    "    axis.set_xlabel(\"# Epochs\")\n",
    "    axis.set_ylabel(\"Average Loss\")\n",
    "    axis.set_title(f\"Loss w/ Pretrained: {pretrained}\")\n",
    "    axis.grid()\n",
    "    axis.legend()\n",
    "\n",
    "    # plot the accuracies\n",
    "    # axis = axes[1]\n",
    "    # axis.plot(xdata, trainAccs, label=\"Train\")\n",
    "    # axis.plot(xdata, validAccs, label=\"Valid\")\n",
    "    # axis.set_xlabel(\"# Epochs\")\n",
    "    # axis.set_ylabel(\"Accuracy\")\n",
    "    # axis.set_title(f\"Accuracy w/ Pretrained: {pretrained}\")\n",
    "    # axis.grid()\n",
    "    # axis.legend()"
   ]
  },
  {
   "cell_type": "code",
   "execution_count": 25,
   "id": "7a1a0264-5140-4a97-8b00-0149f593a30b",
   "metadata": {},
   "outputs": [],
   "source": [
    "def trainAndPlot():\n",
    "    '''Train the model and display the training and validation statistics\n",
    "\n",
    "    1. initialize the HotdogMobileNet model (according to whether we are using the pretrained weights)\n",
    "    2. initialize the training utilities such as the DataLoaders, loss function, and optimizer\n",
    "    3. train the model for 10 epochs\n",
    "    4. plot the statistics collected over training\n",
    "\n",
    "    Arguments:\n",
    "        - pretrained: whether MobileNet model will use pre-trained weights or not\n",
    "        - peft: whether or not to freeze layers in the model (parameter efficient fine-tuning)\n",
    "    Returns:\n",
    "        - model: trained instance of HotdogMobileNet\n",
    "    '''\n",
    "    model = CMUGuesserNet()\n",
    "    freeze(model)\n",
    "\n",
    "    trainDL, validDL, lossfn, opt = createTrainingUtils(model)\n",
    "\n",
    "    epochs = 100\n",
    "    \n",
    "    model, trainLosses, trainAccs, validLosses, validAccs = train(model, trainDL, validDL, lossfn, opt, epochs=epochs)\n",
    "\n",
    "    plotStatistics(True, epochs, trainLosses, trainAccs, validLosses, validAccs)\n",
    "    \n",
    "    return model"
   ]
  },
  {
   "cell_type": "code",
   "execution_count": 26,
   "id": "3da5e891-3e88-40aa-af08-3d5f9e4a63e4",
   "metadata": {},
   "outputs": [
    {
     "data": {
      "text/plain": [
       "device(type='cuda')"
      ]
     },
     "execution_count": 26,
     "metadata": {},
     "output_type": "execute_result"
    }
   ],
   "source": [
    "device = torch.device(\"cuda\" if torch.cuda.is_available() else \"cpu\")\n",
    "device"
   ]
  },
  {
   "cell_type": "code",
   "execution_count": null,
   "id": "dd7dafb3-ab03-4834-8465-6c2d3918fc0f",
   "metadata": {},
   "outputs": [
    {
     "name": "stdout",
     "output_type": "stream",
     "text": [
      "Initial Model: train-loss=1.39 train-acc=2.98 valid-loss=1.37 valid-acc=3.00\n",
      "Epoch    0: train-loss=1.363161 test-loss=1.336199\n",
      "Epoch    1: train-loss=1.345856 test-loss=1.325163\n",
      "Epoch    2: train-loss=1.316379 test-loss=1.342245\n",
      "Epoch    3: train-loss=1.292680 test-loss=1.331154\n",
      "Epoch    4: train-loss=1.276815 test-loss=1.326371\n",
      "Epoch    5: train-loss=1.252788 test-loss=1.338886\n",
      "Epoch    6: train-loss=1.236171 test-loss=1.327663\n",
      "Epoch    7: train-loss=1.209897 test-loss=1.320196\n",
      "Epoch    8: train-loss=1.194503 test-loss=1.318386\n",
      "Epoch    9: train-loss=1.176756 test-loss=1.333951\n",
      "Epoch   10: train-loss=1.163722 test-loss=1.354425\n",
      "Epoch   11: train-loss=1.141418 test-loss=1.317353\n",
      "Epoch   12: train-loss=1.131086 test-loss=1.283849\n",
      "Epoch   13: train-loss=1.109994 test-loss=1.291404\n",
      "Epoch   14: train-loss=1.100868 test-loss=1.318859\n",
      "Epoch   15: train-loss=1.096344 test-loss=1.291642\n",
      "Epoch   16: train-loss=1.084820 test-loss=1.295300\n",
      "Epoch   17: train-loss=1.072910 test-loss=1.256060\n",
      "Epoch   18: train-loss=1.065108 test-loss=1.294718\n",
      "Epoch   19: train-loss=1.058382 test-loss=1.267523\n",
      "Epoch   20: train-loss=1.046469 test-loss=1.291901\n",
      "Epoch   21: train-loss=1.044793 test-loss=1.290684\n",
      "Epoch   22: train-loss=1.038738 test-loss=1.296885\n",
      "Epoch   23: train-loss=1.033484 test-loss=1.264082\n",
      "Epoch   24: train-loss=1.022888 test-loss=1.248188\n",
      "Epoch   25: train-loss=1.026303 test-loss=1.271610\n",
      "Epoch   26: train-loss=1.011233 test-loss=1.288563\n",
      "Epoch   27: train-loss=1.005050 test-loss=1.300043\n",
      "Epoch   28: train-loss=0.996872 test-loss=1.268827\n",
      "Epoch   29: train-loss=0.993267 test-loss=1.301288\n",
      "Epoch   30: train-loss=0.980012 test-loss=1.245436\n",
      "Epoch   31: train-loss=0.976250 test-loss=1.263845\n",
      "Epoch   32: train-loss=0.967555 test-loss=1.296619\n",
      "Epoch   33: train-loss=0.969941 test-loss=1.278358\n",
      "Epoch   34: train-loss=0.962775 test-loss=1.262444\n",
      "Epoch   35: train-loss=0.954282 test-loss=1.252036\n",
      "Epoch   36: train-loss=0.956354 test-loss=1.222687\n",
      "Epoch   37: train-loss=0.948110 test-loss=1.257235\n",
      "Epoch   38: train-loss=0.950209 test-loss=1.231242\n",
      "Epoch   39: train-loss=0.941073 test-loss=1.274616\n",
      "Epoch   40: train-loss=0.937378 test-loss=1.249686\n",
      "Epoch   41: train-loss=0.932089 test-loss=1.249162\n",
      "Epoch   42: train-loss=0.921684 test-loss=1.276786\n",
      "Epoch   43: train-loss=0.923299 test-loss=1.211487\n",
      "Epoch   44: train-loss=0.920760 test-loss=1.211355\n",
      "Epoch   45: train-loss=0.917899 test-loss=1.263098\n",
      "Epoch   46: train-loss=0.911065 test-loss=1.221277\n",
      "Epoch   47: train-loss=0.906640 test-loss=1.254423\n",
      "Epoch   48: train-loss=0.909566 test-loss=1.206650\n",
      "Epoch   49: train-loss=0.909417 test-loss=1.269625\n",
      "Epoch   50: train-loss=0.903345 test-loss=1.276428\n",
      "Epoch   51: train-loss=0.906372 test-loss=1.281655\n",
      "Epoch   52: train-loss=0.897264 test-loss=1.255670\n",
      "Epoch   53: train-loss=0.893146 test-loss=1.246470\n",
      "Epoch   54: train-loss=0.892184 test-loss=1.284507\n",
      "Epoch   55: train-loss=0.891388 test-loss=1.232217\n",
      "Epoch   56: train-loss=0.890240 test-loss=1.188244\n",
      "Epoch   57: train-loss=0.899210 test-loss=1.209588\n",
      "Epoch   58: train-loss=0.888815 test-loss=1.197562\n",
      "Epoch   59: train-loss=0.874612 test-loss=1.232625\n",
      "Epoch   60: train-loss=0.878639 test-loss=1.184015\n",
      "Epoch   61: train-loss=0.874105 test-loss=1.239294\n",
      "Epoch   62: train-loss=0.879294 test-loss=1.247740\n",
      "Epoch   63: train-loss=0.879785 test-loss=1.255863\n",
      "Epoch   64: train-loss=0.878024 test-loss=1.137732\n",
      "Epoch   65: train-loss=0.868457 test-loss=1.218927\n",
      "Epoch   66: train-loss=0.875501 test-loss=1.229500\n",
      "Epoch   67: train-loss=0.872439 test-loss=1.190750\n",
      "Epoch   68: train-loss=0.863263 test-loss=1.202901\n",
      "Epoch   69: train-loss=0.867286 test-loss=1.222846\n",
      "Epoch   70: train-loss=0.862815 test-loss=1.234341\n",
      "Epoch   71: train-loss=0.860920 test-loss=1.264415\n",
      "Epoch   72: train-loss=0.856077 test-loss=1.250301\n",
      "Epoch   73: train-loss=0.861605 test-loss=1.200263\n",
      "Epoch   74: train-loss=0.857937 test-loss=1.246537\n",
      "Epoch   75: train-loss=0.858184 test-loss=1.190405\n",
      "Epoch   76: train-loss=0.858274 test-loss=1.164235\n",
      "Epoch   77: train-loss=0.854698 test-loss=1.248866\n",
      "Epoch   78: train-loss=0.854113 test-loss=1.202015\n",
      "Epoch   79: train-loss=0.849370 test-loss=1.173865\n",
      "Epoch   80: train-loss=0.846636 test-loss=1.195557\n",
      "Epoch   81: train-loss=0.838023 test-loss=1.184900\n",
      "Epoch   82: train-loss=0.843011 test-loss=1.296046\n",
      "Epoch   83: train-loss=0.840953 test-loss=1.214217\n",
      "Epoch   84: train-loss=0.847398 test-loss=1.284003\n",
      "Epoch   85: train-loss=0.836644 test-loss=1.245696\n",
      "Epoch   86: train-loss=0.843342 test-loss=1.255096\n",
      "Epoch   87: train-loss=0.841392 test-loss=1.230964\n",
      "Epoch   88: train-loss=0.833021 test-loss=1.209826\n",
      "Epoch   89: train-loss=0.832679 test-loss=1.181636\n",
      "Epoch   90: train-loss=0.833970 test-loss=1.180783\n",
      "Epoch   91: train-loss=0.835660 test-loss=1.197824\n",
      "Epoch   92: train-loss=0.836315 test-loss=1.187884\n",
      "Epoch   93: train-loss=0.831531 test-loss=1.259888\n",
      "Epoch   94: train-loss=0.832467 test-loss=1.270652\n",
      "Epoch   95: train-loss=0.831386 test-loss=1.251733\n",
      "Epoch   96: train-loss=0.835516 test-loss=1.246416\n",
      "Epoch   97: train-loss=0.827995 test-loss=1.255851\n"
     ]
    }
   ],
   "source": [
    "model=trainAndPlot()"
   ]
  },
  {
   "cell_type": "code",
   "execution_count": null,
   "id": "39927208-22b8-4d70-b8aa-7497b6606d7a",
   "metadata": {},
   "outputs": [],
   "source": [
    "def eval(model, image):\n",
    "    \"\"\"\n",
    "    TODO: Split this into two things\n",
    "    - Eval processed predict from pre-processed image to normalized lat+lon\n",
    "    - Eval raw, takes a raw image procssses it, sends it to one above, then extracts real location\n",
    "    \"\"\"\n",
    "    device = torch.device(\"cuda\" if torch.cuda.is_available() else \"cpu\")\n",
    "    model = model.to(device)\n",
    "\n",
    "    with torch.no_grad():\n",
    "        x = torch.from_numpy(np.array([img.numpy()]))\n",
    "        x = image.to(device)\n",
    "        lossSum = 0\n",
    "        nCorrect = 0\n",
    "        \n",
    "        yhat = model(x)\n",
    "        \n",
    "    return yhat"
   ]
  },
  {
   "cell_type": "code",
   "execution_count": null,
   "id": "d767e99a-ee0f-4c51-b1b8-a3b6da871707",
   "metadata": {},
   "outputs": [],
   "source": [
    "fun_dl = DataLoader(CampusImagesDataSet('data/test/processed', transform=allTransforms, grid_size=grid_size), batch_size=1, shuffle=False)"
   ]
  },
  {
   "cell_type": "code",
   "execution_count": null,
   "id": "b56b0028-b022-44aa-b9e8-2754c676ba7c",
   "metadata": {},
   "outputs": [],
   "source": [
    "data_point = list(fun_dl)[5]\n",
    "plot_torch_image(data_point[0][0])"
   ]
  },
  {
   "cell_type": "code",
   "execution_count": null,
   "id": "9def7044-4fa9-4bb9-b012-02e098b3ccc0",
   "metadata": {},
   "outputs": [],
   "source": [
    "yhat = eval(model, data_point[0])\n",
    "(torch.argmax(yhat), torch.argmax(data_point[1]))"
   ]
  },
  {
   "cell_type": "code",
   "execution_count": null,
   "id": "898250fe-909a-4373-928b-45ed083e0f2b",
   "metadata": {},
   "outputs": [],
   "source": [
    "def save_model(model, path):\n",
    "    torch.save(model.state_dict(), path)\n",
    "    \n",
    "def load_model(path):\n",
    "    model = CMUGuesserNet()\n",
    "    model.load_state_dict(torch.load(path))\n",
    "    model.eval()\n",
    "    return model"
   ]
  },
  {
   "cell_type": "code",
   "execution_count": null,
   "id": "27911949-687a-4df8-b531-2583e434ec63",
   "metadata": {},
   "outputs": [],
   "source": [
    "save_model(model, 'model.torch')\n",
    "# model = load_model('model.torch')"
   ]
  },
  {
   "cell_type": "code",
   "execution_count": null,
   "id": "24585396-8200-4e2a-9e67-4f83cd6c2350",
   "metadata": {},
   "outputs": [],
   "source": [
    "import json\n",
    "import os"
   ]
  },
  {
   "cell_type": "code",
   "execution_count": null,
   "id": "97605f1b-2ef6-495b-ac1f-dae12433972a",
   "metadata": {},
   "outputs": [],
   "source": [
    "def dump_n_predictions(n, to_file):\n",
    "    prediction_data = []\n",
    "    for i in range(n):\n",
    "        data_point = list(fun_dl)[i]\n",
    "    \n",
    "        yhat = eval(model, data_point[0])\n",
    "        ytrue = data_point[1]\n",
    "\n",
    "        yhat = yhat.reshape(grid_size * grid_size,).cpu()\n",
    "        ytrue = ytrue.reshape(grid_size * grid_size,).cpu()\n",
    "\n",
    "        print(torch.argmax(yhat), torch.argmax(ytrue), torch.sum(yhat), yhat)\n",
    "        prediction_data.append({\n",
    "            \"predicted\": (np.array(data.label_to_real_location(yhat))).tolist(),\n",
    "            \"true\": list(data.labels.values())[i],\n",
    "        })\n",
    "\n",
    "    out_data = {\n",
    "            \"prediction_data\": prediction_data,\n",
    "            \"grid\": data.get_real_location_grid(),\n",
    "        }\n",
    "    with open(to_file, 'w') as f:\n",
    "        json.dump(out_data, f)\n",
    "    return out_data"
   ]
  },
  {
   "cell_type": "code",
   "execution_count": null,
   "id": "65fb7437-f30b-48ab-9f2a-df5f1728fa2d",
   "metadata": {},
   "outputs": [],
   "source": [
    "pred_data = dump_n_predictions(10, 'predictions.json')\n",
    "pred_data"
   ]
  },
  {
   "cell_type": "code",
   "execution_count": null,
   "id": "9c04a8e4-8508-4874-98aa-5c83b614fb81",
   "metadata": {},
   "outputs": [],
   "source": []
  }
 ],
 "metadata": {
  "kernelspec": {
   "display_name": "Python (myenv)",
   "language": "python",
   "name": "myenv"
  },
  "language_info": {
   "codemirror_mode": {
    "name": "ipython",
    "version": 3
   },
   "file_extension": ".py",
   "mimetype": "text/x-python",
   "name": "python",
   "nbconvert_exporter": "python",
   "pygments_lexer": "ipython3",
   "version": "3.11.5"
  }
 },
 "nbformat": 4,
 "nbformat_minor": 5
}
